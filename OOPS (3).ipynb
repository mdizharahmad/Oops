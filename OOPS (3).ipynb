{
  "nbformat": 4,
  "nbformat_minor": 0,
  "metadata": {
    "colab": {
      "provenance": []
    },
    "kernelspec": {
      "name": "python3",
      "display_name": "Python 3"
    },
    "language_info": {
      "name": "python"
    }
  },
  "cells": [
    {
      "cell_type": "code",
      "execution_count": 1,
      "metadata": {
        "id": "r7MNXeJrpj-W",
        "colab": {
          "base_uri": "https://localhost:8080/",
          "height": 70
        },
        "outputId": "43bd233a-e748-4dc3-8e88-e460820b260c"
      },
      "outputs": [
        {
          "output_type": "execute_result",
          "data": {
            "text/plain": [
              "'\\nQ1 .What is Object-Oriented Programming (OOP) in python\\n ANS.\\n Object-oriented programming is a programming paradigm that is based on the concept of \"objects\",\\n which can contain data and code that manipulates that data. In OOP,\\n  objects are created from templates called \"classes\",\\n which define the properties and behavior of the objects they create.\\n'"
            ],
            "application/vnd.google.colaboratory.intrinsic+json": {
              "type": "string"
            }
          },
          "metadata": {},
          "execution_count": 1
        }
      ],
      "source": [
        "\"\"\"\n",
        "Q1 .What is Object-Oriented Programming (OOP) in python\n",
        " ANS.\n",
        " Object-oriented programming is a programming paradigm that is based on the concept of \"objects\",\n",
        " which can contain data and code that manipulates that data. In OOP,\n",
        "  objects are created from templates called \"classes\",\n",
        " which define the properties and behavior of the objects they create.\n",
        "\"\"\"\n",
        ""
      ]
    },
    {
      "cell_type": "code",
      "source": [
        "\"\"\"\n",
        " Q 2.what is a class in oop in python.\n",
        " In Python, a class is a template for creating objects.\n",
        " It defines the properties and behavior of the objects that are created from it.\n",
        " \"\"\""
      ],
      "metadata": {
        "id": "fdNznNeUqSnO"
      },
      "execution_count": null,
      "outputs": []
    },
    {
      "cell_type": "code",
      "source": [
        "\"\"\"\n",
        "Q 3.what is an object in oop python.\n",
        "ANS.\n",
        "     It defines the properties and behavior of the objects that are created from it.\n",
        "     An object is an instance of a class,\n",
        "    created by calling the class like a function.\n",
        "    \"\"\""
      ],
      "metadata": {
        "id": "co0khsSKrQKW"
      },
      "execution_count": null,
      "outputs": []
    },
    {
      "cell_type": "code",
      "source": [
        "\"\"\"\n",
        "Q4.          Difference between Abstraction and Encapsulation:\n",
        "\n",
        "                      ABSTRACTION\t                                                               ENCAPSULATION\n",
        "1.\tAbstraction is the process or method of gaining the information.\t      1. While encapsulation is the process or method to contain the information.\n",
        "2.\tIn abstraction, problems are solved at the design or interface level.\t  2.  While in encapsulation, problems are solved at the implementation level.\n",
        "3.\tAbstraction is the method of hiding the unwanted information.\t          3.  Whereas encapsulation is a method to hide the data in a single entity or unit along with a method to protect information from outside.\n",
        "4.\tWe can implement abstraction using abstract class and interfaces.\t       4. Whereas encapsulation can be implemented using by access modifier i.e. private, protected and public.\n",
        "5.\tIn abstraction, implementation complexities are hidden using abstract classes and interfaces.\t5. While in encapsulation, the data is hidden using methods of getters and setters.\n",
        "6.\tThe objects that help to perform abstraction are encapsulated.\n",
        "\n",
        "6.\tWhereas the objects that result in encapsulation need not be abstracted.\n",
        "\"\"\""
      ],
      "metadata": {
        "id": "PHloWeO-r5Ng"
      },
      "execution_count": null,
      "outputs": []
    },
    {
      "cell_type": "code",
      "source": [
        "\"\"\"\n",
        "Q5.    What are dunder methods in Python\n",
        "ANS\n",
        "   Dunder methods, also known as magic methods or special methods,\n",
        "   are predefined methods in Python that have double underscores (or “dunders”) at the beginning and end of their names.\n",
        "  These methods provide a way to define specific behaviors for built-in operations or functionalities in Python classes.\n",
        "  \"\"\""
      ],
      "metadata": {
        "id": "zxuJvPZ7s1oD"
      },
      "execution_count": null,
      "outputs": []
    },
    {
      "cell_type": "code",
      "source": [
        "\"\"\"\n",
        "Q6. Explain the concept of inheritance in OOP\n",
        "\n",
        "Inheritance in OOP = When a class derives from another class.\n",
        "The child class will inherit all the public and protected properties and methods from the parent class.\n",
        "In addition, it can have its own properties and methods.\n",
        " An inherited class is defined by using the extends keyword.\n",
        " \"\"\""
      ],
      "metadata": {
        "id": "Gikdg-DOuCUq"
      },
      "execution_count": null,
      "outputs": []
    },
    {
      "cell_type": "code",
      "source": [
        "\"\"\"\n",
        "Q7. WHAT is polymorphism in oop in python.\n",
        "\n",
        "Polymorphism is a feature of object-oriented programming languages that allows a\n",
        "specific routine to use variables of different types at different times.\n",
        " Polymorphism in programming gives a program the ability to redefine methods for derived classes.\n",
        "\"\"\""
      ],
      "metadata": {
        "id": "Uuet0UqV1ARh"
      },
      "execution_count": null,
      "outputs": []
    },
    {
      "cell_type": "code",
      "source": [
        "\"\"\"\n",
        "Q8. How is encapsulation achieved in Python\n",
        "\n",
        "Encapsulation is achieved by declaring a class's\n",
        " data members and methods as either private or protected.\n",
        " But in Python, we do not have keywords like public, private, and protected,\n",
        " as in the case of Java. Instead, we achieve this by using single and double underscores.\n",
        " \"\"\""
      ],
      "metadata": {
        "id": "cv0Rpm7DHAMV"
      },
      "execution_count": null,
      "outputs": []
    },
    {
      "cell_type": "code",
      "source": [
        "\"\"\"\n",
        "Q9.What is a constructor in Python.\n",
        "What is Python Constructor. In Python, a constructor is a special method called when an object is created.\n",
        " Its purpose is to assign values to the data members within the class when an object is initialized.\n",
        " \"\"\""
      ],
      "metadata": {
        "id": "z64z6K7WHaxM"
      },
      "execution_count": null,
      "outputs": []
    },
    {
      "cell_type": "code",
      "source": [
        "\"\"\"\n",
        "Q10. What are class and static methods in Python.\n",
        "\n",
        "Class methods can access and modify class-level attributes.\n",
        "They have access to the class object and can modify class variables or create new instances of the class.\n",
        "Static methods, on the other hand,\n",
        "do not have access to the class object and cannot modify any class-level attributes.\n",
        "\"\"\""
      ],
      "metadata": {
        "id": "chbiBYe2Hslp"
      },
      "execution_count": null,
      "outputs": []
    },
    {
      "cell_type": "code",
      "source": [
        "\"\"\"\n",
        "Q11.WHAT is function overloading in python.\n",
        "ans.\n",
        "Method overloading in Python provides a way to handle different types or numbers of inputs using a single method name,\n",
        "making your code more flexible and easier to maintain. While Python does not directly support method overloading like other languages.\n",
        "\"\"\""
      ],
      "metadata": {
        "id": "m-IgptvEIaKt"
      },
      "execution_count": null,
      "outputs": []
    },
    {
      "cell_type": "code",
      "source": [
        "\n",
        "\"\"\"Q12.What is method overriding in OOP.\n",
        "ANS.\n",
        "Method overriding, in object-oriented programming,\n",
        " is a language feature that allows a subclass or child class\n",
        "to provide a specific implementation of a method\n",
        "that is already provided by one of its superclasses or parent classes.\n",
        "\"\"\""
      ],
      "metadata": {
        "id": "M-Ibm9rSIpfM"
      },
      "execution_count": null,
      "outputs": []
    },
    {
      "cell_type": "code",
      "source": [
        "\n",
        "\"\"\"Q13.What is a property decorator in Python.\n",
        "ANS\n",
        "The decorator is a built-in Python decorator\n",
        "that allows you to turn class methods into properties in a way that\n",
        "'s both elegant and user-friendly.\"\"\"\n"
      ],
      "metadata": {
        "id": "FiLLp0ORJLJx",
        "colab": {
          "base_uri": "https://localhost:8080/",
          "height": 53
        },
        "outputId": "4592e686-9da7-412e-e699-216bb71eac66"
      },
      "execution_count": 3,
      "outputs": [
        {
          "output_type": "execute_result",
          "data": {
            "text/plain": [
              "\"Q13.What is a property decorator in Python.\\nANS\\nThe decorator is a built-in Python decorator\\nthat allows you to turn class methods into properties in a way that\\n's both elegant and user-friendly.\""
            ],
            "application/vnd.google.colaboratory.intrinsic+json": {
              "type": "string"
            }
          },
          "metadata": {},
          "execution_count": 3
        }
      ]
    },
    {
      "cell_type": "code",
      "source": [
        "\"\"\"Q14.Why is polymorphism important in OOP.\n",
        "\n",
        "Polymorphism is a feature of object-oriented programming languages that allows a specific routine to\n",
        "use variables of different types at different times.\n",
        " Polymorphism in programming gives a program the ability to redefine methods for derived classes.\n",
        " \"\"\""
      ],
      "metadata": {
        "id": "_5VbnmZVJ1CL"
      },
      "execution_count": null,
      "outputs": []
    },
    {
      "cell_type": "code",
      "source": [
        "\"\"\"Q15.What is an abstract class in Python\n",
        "ANS.\n",
        "Abstraction is the method of hiding the unwanted information.\n",
        "In abstraction, implementation complexities are hidden using abstract classes and interfaces.\n",
        "\n",
        "\"\"\""
      ],
      "metadata": {
        "id": "-ZC3h6nMKHTX"
      },
      "execution_count": null,
      "outputs": []
    },
    {
      "cell_type": "code",
      "source": [
        "\"\"\"Q16.What are the advantages of OOP.\n",
        "\n",
        "ANS.\n",
        "Enables code reusability. ...\n",
        "Increases productivity in software development. ...\n",
        "Makes troubleshooting simpler. ...\n",
        "Reinforces security. ...\n",
        "Simplifies code maintenance. ...\n",
        "Prevents the repetition of data. ...\n",
        "Results in flexible code. ...\n",
        "Addresses issues early on\n",
        "\"\"\""
      ],
      "metadata": {
        "id": "_qGaD2ZBKjd0"
      },
      "execution_count": null,
      "outputs": []
    },
    {
      "cell_type": "code",
      "source": [
        " \"\"\"\n",
        " Q17. What is the difference between a class variable and an instance variable.\n",
        " ANS.\n",
        "\n",
        "  Class variables are defined within the class but outside of any class methods.\n",
        "  Instance variables are defined within class methods, typically the constructor.\n",
        "  Changes made to the class variable affect all instances.\n",
        "  Changes made to the instance variable does not affect all instances.\n",
        "  \"\"\""
      ],
      "metadata": {
        "id": "WcYZ9MPMLp4i"
      },
      "execution_count": null,
      "outputs": []
    },
    {
      "cell_type": "code",
      "source": [
        "\"\"\"Q18. What is multiple inheritance in Python.\n",
        "\n",
        "ANS.\n",
        "  In Python,\n",
        "  multiple inheritance is a feature where a class can inherit attributes and methods from more than one parent class.\n",
        "  It allows you to create a class that combines behaviors or attributes from multiple other classes,\n",
        "  which can be quite powerful,\n",
        "  \"\"\""
      ],
      "metadata": {
        "id": "ettvEXV3MF0c"
      },
      "execution_count": null,
      "outputs": []
    },
    {
      "cell_type": "code",
      "source": [
        "\n",
        "\"\"\"Q19. Explain the purpose of ‘’__str__’ and ‘__repr__’ ‘ methods in Python.\n",
        "ANS.\n",
        "_str__:\n",
        "      This method is called by the __str__() built-in function and the print statement to display areadable string representation of an object.\n",
        "       It is intended to provide a human-readable output.\n",
        "\n",
        "__repr__:\n",
        "         This method is called by the __repr__() built-in function and by Python’s interactive interpreter to generate a representation of the object.\n",
        "           It should be unambiguous and, ideally, should allow the object to be recreated using the eval() function.\n",
        "           \"\"\""
      ],
      "metadata": {
        "id": "jZzwrn0YNKav"
      },
      "execution_count": null,
      "outputs": []
    },
    {
      "cell_type": "code",
      "source": [
        "\n",
        "\"\"\"Q20. What is the significance of the ‘super()’ function in Python\n",
        "ANS.\n",
        "In Python, super() is a built-in function\n",
        " that allows access to methods and properties of a parent or superclass from a child or subclass.\n",
        " This is useful when working with inheritance in object-oriented programming.\n",
        " \"\"\""
      ],
      "metadata": {
        "id": "QX4-UXMyN0oE"
      },
      "execution_count": null,
      "outputs": []
    },
    {
      "cell_type": "code",
      "source": [
        "\"\"\"Q21. What is the significance of the __del__ method in Python.\n",
        "ANS.\n",
        "Python automatically calls . __del__() when a given object is about to be destroyed.\n",
        " This call allows the object to release external resources and clean itself up.\n",
        "  It's important to note that the del statement doesn't trigger the .\n",
        "  \"\"\""
      ],
      "metadata": {
        "id": "GwLlznqSOSBs"
      },
      "execution_count": null,
      "outputs": []
    },
    {
      "cell_type": "code",
      "source": [
        "\"\"\"Q22. What is the difference between @staticmethod and @classmethod in Python.\n",
        "ANS.\n",
        "The only difference between @classmethod and @staticmethod is that in the @classmethod,\n",
        "the class is bound to the method as the first argument (cls).\n",
        "This means that it is easy to access the class, in the method,\n",
        "via the cls argument, instead of having to use the full class name.\n",
        "\"\"\""
      ],
      "metadata": {
        "id": "cp7cJ81pOu_O"
      },
      "execution_count": null,
      "outputs": []
    },
    {
      "cell_type": "code",
      "source": [
        "\"\"\"Q23. How does polymorphism work in Python with inheritance.\n",
        "ANS.\n",
        "Polymorphism in Python is the ability of one object to take on multiple forms.\n",
        "This is done by creating multiple classes inherited from a single base class.\n",
        "Each class can then be used interchangeably, as they all share the same interface.\n",
        " This allows for a great degree of flexibility when it comes to programming\n",
        " \"\"\""
      ],
      "metadata": {
        "id": "2KSUwXMVPKAi"
      },
      "execution_count": null,
      "outputs": []
    },
    {
      "cell_type": "code",
      "source": [
        "\"\"\"Q24.What is method chaining in Python OOP,\n",
        "ANS.\n",
        "Method chaining is a common syntax for invoking multiple method calls in object-oriented programming languages.\n",
        "Each method returns an object,\n",
        "Allowing the calls to be chained together in a single .\n",
        "Statement without requiring variables to store the intermediate results\n",
        "\"\"\""
      ],
      "metadata": {
        "id": "Yf5zZNAhPyDV"
      },
      "execution_count": null,
      "outputs": []
    },
    {
      "cell_type": "code",
      "source": [
        "\"\"\"Q25.What is purpose the __call__ method do in Python.\n",
        "ans.\n",
        "The __call__ method is part of Python build-in methods also called\n",
        " dunder or magic methods because have two prefixes and suffix underscores in the method name. The main idea of __call__ method\n",
        " is to write a class and invoke it like a function. You can refer to it as callable object.\n",
        " \"\"\""
      ],
      "metadata": {
        "id": "t5VW7tgSQIXp"
      },
      "execution_count": null,
      "outputs": []
    }
  ]
}